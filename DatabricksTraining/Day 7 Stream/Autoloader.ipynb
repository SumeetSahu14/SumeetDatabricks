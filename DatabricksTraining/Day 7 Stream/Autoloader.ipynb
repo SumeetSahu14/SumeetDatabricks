{
 "cells": [
  {
   "cell_type": "code",
   "execution_count": 0,
   "metadata": {
    "application/vnd.databricks.v1+cell": {
     "cellMetadata": {},
     "inputWidgets": {},
     "nuid": "66b0a8fb-efd0-454f-96ba-5d84e8ad6bd1",
     "showTitle": true,
     "tableResultSettingsMap": {},
     "title": "Stream"
    }
   },
   "outputs": [],
   "source": [
    "(\n",
    "spark\n",
    " .readStream\n",
    " .schema(users_schema)\n",
    " .csv(input,header=True)\n",
    " .writeStream\n",
    " .option(\"checkpointLocation\",\"s3://jpmctraining/checkpoint/sumeet/stream1\")\n",
    "#.trigger(once=True)\n",
    " #.trigger(availableNow=True)\n",
    " #.trigger(processingTime='5 seconds')\n",
    " .toTable(\"auto.sumeet_bronze.stream\")\n",
    " )"
   ]
  },
  {
   "cell_type": "code",
   "execution_count": 0,
   "metadata": {
    "application/vnd.databricks.v1+cell": {
     "cellMetadata": {},
     "inputWidgets": {},
     "nuid": "0e4c9c21-4909-486c-b86a-6a8c298b7ac3",
     "showTitle": false,
     "tableResultSettingsMap": {},
     "title": ""
    }
   },
   "outputs": [],
   "source": [
    "spark.readStream.format(\"cloudFiles\") \\\n",
    "  .option(\"cloudFiles.format\", \"json\") \\\n",
    "  .option(\"cloudFiles.schemaLocation\", \"<path-to-schema-location>\") \\\n",
    "  .load(\"<path-to-source-data>\") \\\n",
    "  .writeStream \\\n",
    "  .option(\"mergeSchema\", \"true\") \\\n",
    "  .option(\"checkpointLocation\", \"<path-to-checkpoint>\") \\\n",
    "  .start(\"<path_to_target\")"
   ]
  },
  {
   "cell_type": "code",
   "execution_count": 0,
   "metadata": {
    "application/vnd.databricks.v1+cell": {
     "cellMetadata": {
      "byteLimit": 2048000,
      "rowLimit": 10000
     },
     "inputWidgets": {},
     "nuid": "da3022f6-1008-40b6-8e4e-8343383bfac1",
     "showTitle": false,
     "tableResultSettingsMap": {},
     "title": ""
    }
   },
   "outputs": [],
   "source": [
    "input=\"s3://jpmctraining/input\"\n",
    "schema=\"s3://jpmctraining/checkpoint/sumeet/autoloader/schema3\"\n",
    "checkpoint=\"s3://jpmctraining/checkpoint/sumeet/autoloader/checkpoint3\""
   ]
  },
  {
   "cell_type": "code",
   "execution_count": 0,
   "metadata": {
    "application/vnd.databricks.v1+cell": {
     "cellMetadata": {
      "byteLimit": 2048000,
      "rowLimit": 10000
     },
     "inputWidgets": {},
     "nuid": "f02759e3-f768-4068-becb-d24e4ff83025",
     "showTitle": true,
     "tableResultSettingsMap": {},
     "title": "Autoloader"
    }
   },
   "outputs": [],
   "source": [
    "(\n",
    "spark\n",
    " .readStream\n",
    " .format(\"cloudFiles\")\n",
    " .option(\"cloudFiles.format\", \"json\")\n",
    " .option(\"cloudFiles.schemaLocation\", schema)\n",
    " .option(\"cloudFiles.inferColumnTypes\",True)\n",
    " .option(\"cloudFiles.schemaevolutionMode\", \"rescue\")\n",
    " .load(input)\n",
    " .writeStream\n",
    " .option(\"checkpointLocation\", checkpoint)  \n",
    " .option(\"mergeSchema\", \"true\")\n",
    " .trigger(processingTime=\"2 minutes\")\n",
    " .toTable(\"auto.sumeet_bronze.medical\")\n",
    ")"
   ]
  },
  {
   "cell_type": "code",
   "execution_count": 0,
   "metadata": {
    "application/vnd.databricks.v1+cell": {
     "cellMetadata": {
      "byteLimit": 2048000,
      "implicitDf": true,
      "rowLimit": 10000
     },
     "inputWidgets": {},
     "nuid": "43836587-3d03-46f4-8d06-79127955d631",
     "showTitle": false,
     "tableResultSettingsMap": {},
     "title": ""
    }
   },
   "outputs": [],
   "source": [
    "%sql\n",
    "desc history auto.sumeet_bronze.medical"
   ]
  },
  {
   "cell_type": "code",
   "execution_count": 0,
   "metadata": {
    "application/vnd.databricks.v1+cell": {
     "cellMetadata": {
      "byteLimit": 2048000,
      "implicitDf": true,
      "rowLimit": 10000
     },
     "inputWidgets": {},
     "nuid": "9b52c405-8071-4ebb-b564-bb40221e95bf",
     "showTitle": false,
     "tableResultSettingsMap": {},
     "title": ""
    }
   },
   "outputs": [],
   "source": [
    "%sql\n",
    "SELECT * FROM auto.sumeet_bronze.medical"
   ]
  },
  {
   "cell_type": "code",
   "execution_count": 0,
   "metadata": {
    "application/vnd.databricks.v1+cell": {
     "cellMetadata": {
      "byteLimit": 2048000,
      "implicitDf": true,
      "rowLimit": 10000
     },
     "inputWidgets": {},
     "nuid": "4e6dacc5-d7d2-4a48-b6af-b0a877ceb66e",
     "showTitle": false,
     "tableResultSettingsMap": {},
     "title": ""
    }
   },
   "outputs": [],
   "source": [
    "%sql\n",
    "DROP TABLE auto.sumeet_bronze.medical"
   ]
  },
  {
   "cell_type": "code",
   "execution_count": 0,
   "metadata": {
    "application/vnd.databricks.v1+cell": {
     "cellMetadata": {},
     "inputWidgets": {},
     "nuid": "b4f4a15a-0e6b-4c32-8a97-7af5f593cf52",
     "showTitle": false,
     "tableResultSettingsMap": {},
     "title": ""
    }
   },
   "outputs": [],
   "source": []
  }
 ],
 "metadata": {
  "application/vnd.databricks.v1+notebook": {
   "computePreferences": null,
   "dashboards": [],
   "environmentMetadata": {
    "base_environment": "",
    "environment_version": "2"
   },
   "inputWidgetPreferences": null,
   "language": "python",
   "notebookMetadata": {
    "mostRecentlyExecutedCommandWithImplicitDF": {
     "commandId": 5482134786470708,
     "dataframes": [
      "_sqldf"
     ]
    },
    "pythonIndentUnit": 4
   },
   "notebookName": "Autoloader",
   "widgets": {}
  },
  "language_info": {
   "name": "python"
  }
 },
 "nbformat": 4,
 "nbformat_minor": 0
}
