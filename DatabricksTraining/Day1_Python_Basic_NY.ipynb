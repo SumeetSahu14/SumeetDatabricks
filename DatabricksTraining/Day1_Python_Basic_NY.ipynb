{
 "cells": [
  {
   "cell_type": "markdown",
   "metadata": {
    "application/vnd.databricks.v1+cell": {
     "cellMetadata": {},
     "inputWidgets": {},
     "nuid": "1169829b-5971-42c0-acb0-b4b419da2314",
     "showTitle": false,
     "tableResultSettingsMap": {},
     "title": ""
    },
    "id": "BCoXzOH5CnM1"
   },
   "source": [
    "## Getting started with Python"
   ]
  },
  {
   "cell_type": "markdown",
   "metadata": {
    "application/vnd.databricks.v1+cell": {
     "cellMetadata": {},
     "inputWidgets": {},
     "nuid": "7b42e3ea-6c26-46b0-ae9f-bf4fcc604ec8",
     "showTitle": false,
     "tableResultSettingsMap": {},
     "title": ""
    },
    "id": "DVIkyZoNCumk"
   },
   "source": [
    "Fundamental Data Types : Immutable(can not change)\n",
    "1.   Int\n",
    "2.   Float\n",
    "3. String\n",
    "4. Bool\n",
    "5. Complex\n",
    "\n"
   ]
  },
  {
   "cell_type": "code",
   "execution_count": 0,
   "metadata": {
    "application/vnd.databricks.v1+cell": {
     "cellMetadata": {},
     "inputWidgets": {},
     "nuid": "15b87f93-eabd-4a88-aa42-fc2b75ddb6c9",
     "showTitle": false,
     "tableResultSettingsMap": {},
     "title": ""
    },
    "colab": {
     "base_uri": "https://localhost:8080/"
    },
    "id": "YERXP24UB5h1",
    "outputId": "af9c45b0-518e-4ad9-97f6-f4683bc44aa3"
   },
   "outputs": [],
   "source": [
    "a=10\n",
    "print(a)\n",
    "print(type(a))"
   ]
  },
  {
   "cell_type": "code",
   "execution_count": 0,
   "metadata": {
    "application/vnd.databricks.v1+cell": {
     "cellMetadata": {},
     "inputWidgets": {},
     "nuid": "9fc3ccef-8269-40e4-898b-48db99d6f886",
     "showTitle": false,
     "tableResultSettingsMap": {},
     "title": ""
    },
    "colab": {
     "base_uri": "https://localhost:8080/"
    },
    "id": "1S5D_6q7CmUs",
    "outputId": "884c6a00-c1bf-461e-dd66-2a84c3af2947"
   },
   "outputs": [],
   "source": [
    "b=20.1\n",
    "print(b)\n",
    "print(type(b))"
   ]
  },
  {
   "cell_type": "code",
   "execution_count": 0,
   "metadata": {
    "application/vnd.databricks.v1+cell": {
     "cellMetadata": {},
     "inputWidgets": {},
     "nuid": "33b87730-2437-4cf9-86d5-b49c4479f0dd",
     "showTitle": false,
     "tableResultSettingsMap": {},
     "title": ""
    },
    "colab": {
     "base_uri": "https://localhost:8080/"
    },
    "id": "zrn9BWHBEMOv",
    "outputId": "6efd6ac1-4618-46fe-9471-1cb95c5bab9a"
   },
   "outputs": [],
   "source": [
    "c=\"Python\"\n",
    "print(c)\n",
    "print(type(c))"
   ]
  },
  {
   "cell_type": "code",
   "execution_count": 0,
   "metadata": {
    "application/vnd.databricks.v1+cell": {
     "cellMetadata": {},
     "inputWidgets": {},
     "nuid": "002195b7-143a-4de8-b00f-62b76763f254",
     "showTitle": false,
     "tableResultSettingsMap": {},
     "title": ""
    },
    "colab": {
     "base_uri": "https://localhost:8080/"
    },
    "id": "onsh9HOHEP44",
    "outputId": "5186d4c4-837c-412a-c444-600de3c807db"
   },
   "outputs": [],
   "source": [
    "c=\"\"\"Python\n",
    "is easy to learn\"\"\"\n",
    "print(c)\n",
    "print(type(c))"
   ]
  },
  {
   "cell_type": "code",
   "execution_count": 0,
   "metadata": {
    "application/vnd.databricks.v1+cell": {
     "cellMetadata": {},
     "inputWidgets": {},
     "nuid": "98a16008-e547-486d-b17b-2e0627f5059c",
     "showTitle": false,
     "tableResultSettingsMap": {},
     "title": ""
    },
    "colab": {
     "base_uri": "https://localhost:8080/"
    },
    "id": "8FTPFCP3EoG2",
    "outputId": "08c205ca-83f4-41aa-f9e2-a01b4d8b156b"
   },
   "outputs": [],
   "source": [
    "d=True\n",
    "print(type(d))"
   ]
  },
  {
   "cell_type": "code",
   "execution_count": 0,
   "metadata": {
    "application/vnd.databricks.v1+cell": {
     "cellMetadata": {},
     "inputWidgets": {},
     "nuid": "b822b108-99de-4600-9e1f-6f32ed11e8fd",
     "showTitle": false,
     "tableResultSettingsMap": {},
     "title": ""
    },
    "colab": {
     "base_uri": "https://localhost:8080/"
    },
    "id": "TtI7kA1DEyha",
    "outputId": "b7e1aab1-805a-415f-e46b-acdca58029e0"
   },
   "outputs": [],
   "source": [
    "d=False\n",
    "print(type(d))"
   ]
  },
  {
   "cell_type": "code",
   "execution_count": 0,
   "metadata": {
    "application/vnd.databricks.v1+cell": {
     "cellMetadata": {},
     "inputWidgets": {},
     "nuid": "f28eb271-40d9-490b-804b-135e5217ec43",
     "showTitle": false,
     "tableResultSettingsMap": {},
     "title": ""
    },
    "colab": {
     "base_uri": "https://localhost:8080/"
    },
    "id": "_AB7GAAHFIgq",
    "outputId": "58a909a4-dcb2-445e-ca23-1d0682c37a20"
   },
   "outputs": [],
   "source": [
    "a=10\n",
    "print(a)\n",
    "print(type(a))\n",
    "print(id(a))"
   ]
  },
  {
   "cell_type": "code",
   "execution_count": 0,
   "metadata": {
    "application/vnd.databricks.v1+cell": {
     "cellMetadata": {},
     "inputWidgets": {},
     "nuid": "1971a13e-058d-4d01-b698-d9dac93a0309",
     "showTitle": false,
     "tableResultSettingsMap": {},
     "title": ""
    },
    "colab": {
     "base_uri": "https://localhost:8080/"
    },
    "id": "tGtmPyEPGqG9",
    "outputId": "b0e88028-8b1b-400c-ff22-53065e6cf381"
   },
   "outputs": [],
   "source": [
    "a=\"Databricks\"\n",
    "print(a)\n",
    "print(type(a))\n",
    "print(id(a))"
   ]
  },
  {
   "cell_type": "code",
   "execution_count": 0,
   "metadata": {
    "application/vnd.databricks.v1+cell": {
     "cellMetadata": {},
     "inputWidgets": {},
     "nuid": "73dc7608-f6fb-4e3d-bb03-de1b609af550",
     "showTitle": false,
     "tableResultSettingsMap": {},
     "title": ""
    },
    "colab": {
     "base_uri": "https://localhost:8080/"
    },
    "id": "ukhtTkHGJyil",
    "outputId": "148dc4c7-d913-45ee-ba7d-142057d35e57"
   },
   "outputs": [],
   "source": [
    "print(a)"
   ]
  },
  {
   "cell_type": "code",
   "execution_count": 0,
   "metadata": {
    "application/vnd.databricks.v1+cell": {
     "cellMetadata": {},
     "inputWidgets": {},
     "nuid": "396b26b7-a61a-488a-92f2-4f128478278c",
     "showTitle": false,
     "tableResultSettingsMap": {},
     "title": ""
    },
    "colab": {
     "base_uri": "https://localhost:8080/"
    },
    "id": "ZNdAmjSLGxda",
    "outputId": "17340fd9-c605-4619-b267-05f39a742913"
   },
   "outputs": [],
   "source": [
    "b=20\n",
    "print(b)\n",
    "print(type(b))\n",
    "print(id(b))"
   ]
  },
  {
   "cell_type": "code",
   "execution_count": 0,
   "metadata": {
    "application/vnd.databricks.v1+cell": {
     "cellMetadata": {},
     "inputWidgets": {},
     "nuid": "b32aeebb-7861-43e3-be74-744ca0ef921a",
     "showTitle": false,
     "tableResultSettingsMap": {},
     "title": ""
    },
    "id": "3wqA1e2VG31h"
   },
   "outputs": [],
   "source": [
    "a=10\n",
    "a=True\n",
    "print(type(a))"
   ]
  },
  {
   "cell_type": "code",
   "execution_count": 0,
   "metadata": {
    "application/vnd.databricks.v1+cell": {
     "cellMetadata": {},
     "inputWidgets": {},
     "nuid": "091e89d5-0c83-46c2-9d0d-9931222ec3b3",
     "showTitle": false,
     "tableResultSettingsMap": {},
     "title": ""
    },
    "id": "VRJj5KHeJ_H2"
   },
   "outputs": [],
   "source": [
    "s=\"Databricks is data and AI company\""
   ]
  },
  {
   "cell_type": "code",
   "execution_count": 0,
   "metadata": {
    "application/vnd.databricks.v1+cell": {
     "cellMetadata": {},
     "inputWidgets": {},
     "nuid": "9b5cfc42-aa98-4ae2-aec9-dc2536be8783",
     "showTitle": false,
     "tableResultSettingsMap": {},
     "title": ""
    },
    "colab": {
     "base_uri": "https://localhost:8080/"
    },
    "id": "cF8bXYr8KHp7",
    "outputId": "28c542ea-92f0-4457-82b4-71050e12cc15"
   },
   "outputs": [],
   "source": [
    "# indexing and slicing\n",
    "print(s[-1])\n",
    "print(s[1])\n",
    "print(s[5:10])\n",
    "print(s[11:])\n",
    "print(s[:10])"
   ]
  },
  {
   "cell_type": "code",
   "execution_count": 0,
   "metadata": {
    "application/vnd.databricks.v1+cell": {
     "cellMetadata": {},
     "inputWidgets": {},
     "nuid": "35b7d717-641d-471b-8206-6c2866576780",
     "showTitle": false,
     "tableResultSettingsMap": {},
     "title": ""
    },
    "colab": {
     "base_uri": "https://localhost:8080/",
     "height": 35
    },
    "id": "okmoGG0ZLCkM",
    "outputId": "27661ee0-edab-4445-a87d-8d187ad4beb7"
   },
   "outputs": [],
   "source": [
    "s[:10]"
   ]
  },
  {
   "cell_type": "code",
   "execution_count": 0,
   "metadata": {
    "application/vnd.databricks.v1+cell": {
     "cellMetadata": {},
     "inputWidgets": {},
     "nuid": "2da1b924-9864-4eb4-af88-e6dd34fdeb33",
     "showTitle": false,
     "tableResultSettingsMap": {},
     "title": ""
    },
    "id": "iK6TIhnNME9z"
   },
   "outputs": [],
   "source": [
    "10+10\n",
    "10*3"
   ]
  },
  {
   "cell_type": "code",
   "execution_count": 0,
   "metadata": {
    "application/vnd.databricks.v1+cell": {
     "cellMetadata": {},
     "inputWidgets": {},
     "nuid": "6bc6780e-7072-400b-8190-6ebbcce7072c",
     "showTitle": false,
     "tableResultSettingsMap": {},
     "title": ""
    },
    "id": "JZRmL2OuLun9"
   },
   "outputs": [],
   "source": [
    "# opertors: +, *"
   ]
  },
  {
   "cell_type": "code",
   "execution_count": 0,
   "metadata": {
    "application/vnd.databricks.v1+cell": {
     "cellMetadata": {},
     "inputWidgets": {},
     "nuid": "0393d218-a710-4cc9-9e21-494341606e99",
     "showTitle": false,
     "tableResultSettingsMap": {},
     "title": ""
    },
    "id": "Ehro3GVfMI5r"
   },
   "outputs": [],
   "source": [
    "s=\"AWS\" + \" \" + \"Databricks\""
   ]
  },
  {
   "cell_type": "code",
   "execution_count": 0,
   "metadata": {
    "application/vnd.databricks.v1+cell": {
     "cellMetadata": {},
     "inputWidgets": {},
     "nuid": "db670b05-c0e3-4acf-ba61-db2cc9cb88cd",
     "showTitle": false,
     "tableResultSettingsMap": {},
     "title": ""
    },
    "id": "Y3sxk_ElMZ6t"
   },
   "outputs": [],
   "source": [
    "s=\"AWS\" + \"Databricks\""
   ]
  },
  {
   "cell_type": "code",
   "execution_count": 0,
   "metadata": {
    "application/vnd.databricks.v1+cell": {
     "cellMetadata": {},
     "inputWidgets": {},
     "nuid": "fffb8d15-44c2-4697-9e4f-77cc9ea51129",
     "showTitle": false,
     "tableResultSettingsMap": {},
     "title": ""
    },
    "colab": {
     "base_uri": "https://localhost:8080/"
    },
    "id": "0sdboMG4MIwS",
    "outputId": "edfd7c1c-a0ca-4248-8c4c-2148832d8662"
   },
   "outputs": [],
   "source": [
    "print(s)"
   ]
  },
  {
   "cell_type": "code",
   "execution_count": 0,
   "metadata": {
    "application/vnd.databricks.v1+cell": {
     "cellMetadata": {},
     "inputWidgets": {},
     "nuid": "57fedc9a-de25-4c97-a7d3-c6e256e57d8e",
     "showTitle": false,
     "tableResultSettingsMap": {},
     "title": ""
    },
    "colab": {
     "base_uri": "https://localhost:8080/",
     "height": 141
    },
    "id": "-IH4yIrcMWFX",
    "outputId": "687cb0d2-fe97-4db4-9edd-64f9034b097d"
   },
   "outputs": [],
   "source": [
    "s=\"AWS\" + 10"
   ]
  },
  {
   "cell_type": "code",
   "execution_count": 0,
   "metadata": {
    "application/vnd.databricks.v1+cell": {
     "cellMetadata": {},
     "inputWidgets": {},
     "nuid": "0eec8910-41bc-4a00-b22e-43b2e227a452",
     "showTitle": false,
     "tableResultSettingsMap": {},
     "title": ""
    },
    "colab": {
     "base_uri": "https://localhost:8080/",
     "height": 141
    },
    "id": "RrAx6b5LMoN4",
    "outputId": "787564ca-0d34-47ce-c492-2e27f885fc9d"
   },
   "outputs": [],
   "source": [
    "s=\"AWS\" * \"Databricks\""
   ]
  },
  {
   "cell_type": "code",
   "execution_count": 0,
   "metadata": {
    "application/vnd.databricks.v1+cell": {
     "cellMetadata": {},
     "inputWidgets": {},
     "nuid": "e1ca6568-3b80-4e78-bfed-cec04f527fdb",
     "showTitle": false,
     "tableResultSettingsMap": {},
     "title": ""
    },
    "colab": {
     "base_uri": "https://localhost:8080/"
    },
    "id": "_yOmy9FaM8qm",
    "outputId": "abebe2c3-02c5-41fe-f7b7-924e9bc30881"
   },
   "outputs": [],
   "source": [
    "s=\"AWS\" * 3\n",
    "print(s)"
   ]
  },
  {
   "cell_type": "code",
   "execution_count": 0,
   "metadata": {
    "application/vnd.databricks.v1+cell": {
     "cellMetadata": {},
     "inputWidgets": {},
     "nuid": "ddf815aa-f18c-425c-b866-9167171919c6",
     "showTitle": false,
     "tableResultSettingsMap": {},
     "title": ""
    },
    "id": "xdLgRpMVNBHW"
   },
   "outputs": [],
   "source": [
    "# + both should str + str (str + str)\n",
    "# * one should str other should be int ( int * str)"
   ]
  },
  {
   "cell_type": "markdown",
   "metadata": {
    "application/vnd.databricks.v1+cell": {
     "cellMetadata": {},
     "inputWidgets": {},
     "nuid": "e57382f4-47c1-45c7-b04d-3076d4351aaa",
     "showTitle": false,
     "tableResultSettingsMap": {},
     "title": ""
    },
    "id": "UDJu0dyNN1kp"
   },
   "source": [
    "### Type casting"
   ]
  },
  {
   "cell_type": "code",
   "execution_count": 0,
   "metadata": {
    "application/vnd.databricks.v1+cell": {
     "cellMetadata": {},
     "inputWidgets": {},
     "nuid": "1da6638f-9704-4550-8fa4-e376e6d46bca",
     "showTitle": false,
     "tableResultSettingsMap": {},
     "title": ""
    },
    "colab": {
     "base_uri": "https://localhost:8080/"
    },
    "id": "xeb9b3hANSzJ",
    "outputId": "1c568663-11b4-4d70-dda6-c88eb0f03554"
   },
   "outputs": [],
   "source": [
    "print(float(10))\n",
    "print(str(10))\n",
    "print(bool(10))\n",
    "print(bool(0))"
   ]
  },
  {
   "cell_type": "code",
   "execution_count": 0,
   "metadata": {
    "application/vnd.databricks.v1+cell": {
     "cellMetadata": {},
     "inputWidgets": {},
     "nuid": "a8fcdc15-672a-4bf1-9f52-238f99f1d780",
     "showTitle": false,
     "tableResultSettingsMap": {},
     "title": ""
    },
    "colab": {
     "base_uri": "https://localhost:8080/"
    },
    "id": "Z6Kbe9AFOrJa",
    "outputId": "a958f039-d57d-4fc0-cd6f-a3a5bcd54faf"
   },
   "outputs": [],
   "source": [
    "print(int(10.1))\n",
    "print(str(10.1))\n",
    "print(bool(10.1))\n",
    "print(bool(0.0))"
   ]
  },
  {
   "cell_type": "code",
   "execution_count": 0,
   "metadata": {
    "application/vnd.databricks.v1+cell": {
     "cellMetadata": {},
     "inputWidgets": {},
     "nuid": "0c027e2c-4b3d-4327-9759-64653499c07b",
     "showTitle": false,
     "tableResultSettingsMap": {},
     "title": ""
    },
    "colab": {
     "base_uri": "https://localhost:8080/"
    },
    "id": "uVQBNkKKO0G0",
    "outputId": "bc172d71-d221-4ca0-fac4-8cfa951a47e9"
   },
   "outputs": [],
   "source": [
    "print(int(\"10\"))\n",
    "#print(int(\"python\")) # Error\n",
    "#print(float(\"python\")) #Error\n",
    "print(bool(\"python\"))\n",
    "print(bool(\"\"))"
   ]
  },
  {
   "cell_type": "markdown",
   "metadata": {
    "application/vnd.databricks.v1+cell": {
     "cellMetadata": {},
     "inputWidgets": {},
     "nuid": "ffc7ab91-e16e-4b83-8e2b-0aadb13d373e",
     "showTitle": false,
     "tableResultSettingsMap": {},
     "title": ""
    },
    "id": "xfCyxFzFRRLK"
   },
   "source": [
    "# Data Type Advance\n",
    "\n",
    "1. List\n",
    "2. Tuple\n",
    "3. Set\n",
    "4. Dict\n",
    "5. Range\n",
    "\n"
   ]
  },
  {
   "cell_type": "markdown",
   "metadata": {
    "application/vnd.databricks.v1+cell": {
     "cellMetadata": {},
     "inputWidgets": {},
     "nuid": "a6e997c7-d5b7-4412-bf9e-1ef52ef0c7a4",
     "showTitle": false,
     "tableResultSettingsMap": {},
     "title": ""
    },
    "id": "e3ZNUdp8SZ_x"
   },
   "source": [
    "# List\n",
    "\n",
    "1. []\n",
    "2. Heterogenous object allowed\n",
    "3. Duplicates are allowed\n",
    "4. Order is presereved\n",
    "5. Indexing and slicing\n",
    "6. Mutable\n",
    "\n"
   ]
  },
  {
   "cell_type": "code",
   "execution_count": 0,
   "metadata": {
    "application/vnd.databricks.v1+cell": {
     "cellMetadata": {},
     "inputWidgets": {},
     "nuid": "f952be6f-1fb0-4086-b55f-36fffc64553d",
     "showTitle": false,
     "tableResultSettingsMap": {},
     "title": ""
    },
    "id": "JljMAtCJSZxX"
   },
   "outputs": [],
   "source": [
    "l=[10,20,'SQL','AWS','AWS',True, False,99.99,10]"
   ]
  },
  {
   "cell_type": "code",
   "execution_count": 0,
   "metadata": {
    "application/vnd.databricks.v1+cell": {
     "cellMetadata": {},
     "inputWidgets": {},
     "nuid": "9ead037f-fdc5-4b2c-bbf3-538cf03e7156",
     "showTitle": false,
     "tableResultSettingsMap": {},
     "title": ""
    },
    "colab": {
     "base_uri": "https://localhost:8080/"
    },
    "id": "KRupcM0jTDp9",
    "outputId": "86522cc8-2285-4101-cc89-cf7be765e888"
   },
   "outputs": [],
   "source": [
    "print(l)\n",
    "print(id(l))\n",
    "print(type(l))\n",
    "l.append(55)\n",
    "print(l)\n",
    "print(id(l))"
   ]
  },
  {
   "cell_type": "code",
   "execution_count": 0,
   "metadata": {
    "application/vnd.databricks.v1+cell": {
     "cellMetadata": {},
     "inputWidgets": {},
     "nuid": "27842ba3-646a-4cbc-8f3b-9b3e88367723",
     "showTitle": false,
     "tableResultSettingsMap": {},
     "title": ""
    },
    "colab": {
     "base_uri": "https://localhost:8080/"
    },
    "id": "zFf6F7S5Q0S0",
    "outputId": "b0ed82e9-9521-4650-b953-62db239eaa56"
   },
   "outputs": [],
   "source": [
    "l=[1,2,3,'a','b']\n",
    "print(l)\n",
    "print(id(l))"
   ]
  },
  {
   "cell_type": "code",
   "execution_count": 0,
   "metadata": {
    "application/vnd.databricks.v1+cell": {
     "cellMetadata": {},
     "inputWidgets": {},
     "nuid": "0d900fe3-00e0-487f-8859-0de61005d7f3",
     "showTitle": false,
     "tableResultSettingsMap": {},
     "title": ""
    },
    "colab": {
     "base_uri": "https://localhost:8080/"
    },
    "id": "cOlWDhR_UA5v",
    "outputId": "03a91f03-16b3-47eb-8e56-2a36d8759008"
   },
   "outputs": [],
   "source": [
    "l[:100]"
   ]
  },
  {
   "cell_type": "code",
   "execution_count": 0,
   "metadata": {
    "application/vnd.databricks.v1+cell": {
     "cellMetadata": {},
     "inputWidgets": {},
     "nuid": "643a10e9-9efd-41ea-8b52-fe0fcbf999b3",
     "showTitle": false,
     "tableResultSettingsMap": {},
     "title": ""
    },
    "id": "PZ7SYiZjUIMN"
   },
   "outputs": [],
   "source": []
  },
  {
   "cell_type": "markdown",
   "metadata": {
    "application/vnd.databricks.v1+cell": {
     "cellMetadata": {},
     "inputWidgets": {},
     "nuid": "9dfd93d9-62db-4aae-afb8-e242f44e7454",
     "showTitle": false,
     "tableResultSettingsMap": {},
     "title": ""
    },
    "id": "6-Hf3HaaVJzK"
   },
   "source": [
    "# Tuple\n",
    "\n",
    "1.   Excatly same as list except that it is immutable\n",
    "2.   Read only version of list is tuple\n",
    "3. ()\n",
    "\n"
   ]
  },
  {
   "cell_type": "code",
   "execution_count": 0,
   "metadata": {
    "application/vnd.databricks.v1+cell": {
     "cellMetadata": {},
     "inputWidgets": {},
     "nuid": "a348cd8e-e77c-468d-9854-927ac2db1ad4",
     "showTitle": false,
     "tableResultSettingsMap": {},
     "title": ""
    },
    "id": "0ooNlANAVYb6"
   },
   "outputs": [],
   "source": [
    "t=(10,10,'a',True,'Naval')"
   ]
  },
  {
   "cell_type": "code",
   "execution_count": 0,
   "metadata": {
    "application/vnd.databricks.v1+cell": {
     "cellMetadata": {},
     "inputWidgets": {},
     "nuid": "c41ab06d-cbc8-4f2c-978d-f86d7923a253",
     "showTitle": false,
     "tableResultSettingsMap": {},
     "title": ""
    },
    "colab": {
     "base_uri": "https://localhost:8080/",
     "height": 35
    },
    "id": "RXpuYp91Vg1l",
    "outputId": "46211f87-5add-40e8-bb75-c90a50c4f35b"
   },
   "outputs": [],
   "source": [
    "t[-1]"
   ]
  },
  {
   "cell_type": "code",
   "execution_count": 0,
   "metadata": {
    "application/vnd.databricks.v1+cell": {
     "cellMetadata": {},
     "inputWidgets": {},
     "nuid": "86223d4c-0af0-44b9-b340-58a0f1ee1637",
     "showTitle": false,
     "tableResultSettingsMap": {},
     "title": ""
    },
    "colab": {
     "base_uri": "https://localhost:8080/",
     "height": 141
    },
    "id": "9GBMsi5EVizZ",
    "outputId": "7460ab68-cd25-41e8-b38f-4833e6383f5a"
   },
   "outputs": [],
   "source": [
    "t.append(99)"
   ]
  },
  {
   "cell_type": "markdown",
   "metadata": {
    "application/vnd.databricks.v1+cell": {
     "cellMetadata": {},
     "inputWidgets": {},
     "nuid": "3145a3fb-58ee-4501-9285-51c7612356a3",
     "showTitle": false,
     "tableResultSettingsMap": {},
     "title": ""
    },
    "id": "RtqdkmkkWDHY"
   },
   "source": [
    " #set\n",
    "\n",
    "\n",
    "\n",
    "1.   {}\n",
    "2.   Hetergenous objects are allowed\n",
    "3. Duplicates are not allowed\n",
    "4. Order is NOT preserved\n",
    "5. Indexing and slicing NOT support\n",
    "6. Mutable\n",
    "\n"
   ]
  },
  {
   "cell_type": "code",
   "execution_count": 0,
   "metadata": {
    "application/vnd.databricks.v1+cell": {
     "cellMetadata": {},
     "inputWidgets": {},
     "nuid": "a5a34aed-3683-4657-a64f-ef91e3aafd5b",
     "showTitle": false,
     "tableResultSettingsMap": {},
     "title": ""
    },
    "colab": {
     "base_uri": "https://localhost:8080/"
    },
    "id": "kn3weyfMVm8N",
    "outputId": "b283e521-9dda-418a-e7e7-a15c1b5a2aaa"
   },
   "outputs": [],
   "source": [
    "s={10,10,20,30,30,'A',True,'A','Python',20}\n",
    "print(s)"
   ]
  },
  {
   "cell_type": "code",
   "execution_count": 0,
   "metadata": {
    "application/vnd.databricks.v1+cell": {
     "cellMetadata": {},
     "inputWidgets": {},
     "nuid": "5b62d6bf-5c70-44ae-9e44-1a2d4c2561df",
     "showTitle": false,
     "tableResultSettingsMap": {},
     "title": ""
    },
    "colab": {
     "base_uri": "https://localhost:8080/",
     "height": 141
    },
    "id": "8AAc7UaVXm54",
    "outputId": "29c7424e-34c5-43af-b341-87853197d251"
   },
   "outputs": [],
   "source": [
    "s[1]"
   ]
  },
  {
   "cell_type": "code",
   "execution_count": 0,
   "metadata": {
    "application/vnd.databricks.v1+cell": {
     "cellMetadata": {},
     "inputWidgets": {},
     "nuid": "10edb76f-3603-4fc8-873e-d0a0e3d243c4",
     "showTitle": false,
     "tableResultSettingsMap": {},
     "title": ""
    },
    "id": "HuaG8H5wX0lz"
   },
   "outputs": [],
   "source": [
    "s.add(99)"
   ]
  },
  {
   "cell_type": "code",
   "execution_count": 0,
   "metadata": {
    "application/vnd.databricks.v1+cell": {
     "cellMetadata": {},
     "inputWidgets": {},
     "nuid": "3ca83c7a-f27b-4c4f-a723-9d6e445ba267",
     "showTitle": false,
     "tableResultSettingsMap": {},
     "title": ""
    },
    "colab": {
     "base_uri": "https://localhost:8080/"
    },
    "id": "cw1BUFJ3X7Mn",
    "outputId": "315dbe51-f71e-4bc0-a670-6edbeb1f02a0"
   },
   "outputs": [],
   "source": [
    "print(s)"
   ]
  },
  {
   "cell_type": "markdown",
   "metadata": {
    "application/vnd.databricks.v1+cell": {
     "cellMetadata": {},
     "inputWidgets": {},
     "nuid": "d4699a54-f968-43a8-adb4-fb49ab935387",
     "showTitle": false,
     "tableResultSettingsMap": {},
     "title": ""
    },
    "id": "YYDkCYNZYw0o"
   },
   "source": [
    "# Dict\n",
    "\n",
    "\n",
    "1.   {k:v}\n",
    "2.   Duplicate keys are NOT allowed\n",
    "3. Duplicate values are allowed\n",
    "4. Heterogenous are allowed\n",
    "5. Mutable\n",
    "\n",
    "\n"
   ]
  },
  {
   "cell_type": "code",
   "execution_count": 0,
   "metadata": {
    "application/vnd.databricks.v1+cell": {
     "cellMetadata": {},
     "inputWidgets": {},
     "nuid": "33ed08eb-e3a7-4241-bc98-4ed6c7d057be",
     "showTitle": false,
     "tableResultSettingsMap": {},
     "title": ""
    },
    "id": "_fHAdVtdX85Q"
   },
   "outputs": [],
   "source": [
    "d={1:'Naval',2:\"Ramakrishna\",3:\"Jaya\",4:\"Praveen\",5:\"Praveen\",6:True,7:100.0,\"a\":\"b\",\"c\":[10,20]}"
   ]
  },
  {
   "cell_type": "code",
   "execution_count": 0,
   "metadata": {
    "application/vnd.databricks.v1+cell": {
     "cellMetadata": {},
     "inputWidgets": {},
     "nuid": "2e6e33cf-f567-46dc-9f6d-683140996a18",
     "showTitle": false,
     "tableResultSettingsMap": {},
     "title": ""
    },
    "colab": {
     "base_uri": "https://localhost:8080/"
    },
    "id": "rpDRjy87ZUtY",
    "outputId": "061dd06e-3f53-447d-d8bc-93d18ea75a20"
   },
   "outputs": [],
   "source": [
    "print(d)"
   ]
  },
  {
   "cell_type": "code",
   "execution_count": 0,
   "metadata": {
    "application/vnd.databricks.v1+cell": {
     "cellMetadata": {},
     "inputWidgets": {},
     "nuid": "98f41550-2112-41fc-b306-e67917d41c6d",
     "showTitle": false,
     "tableResultSettingsMap": {},
     "title": ""
    },
    "id": "ZMKE0Z3UZVSM"
   },
   "outputs": [],
   "source": [
    "d[5]='Mohan'"
   ]
  },
  {
   "cell_type": "code",
   "execution_count": 0,
   "metadata": {
    "application/vnd.databricks.v1+cell": {
     "cellMetadata": {},
     "inputWidgets": {},
     "nuid": "b2150db2-e31e-4c6b-8c07-64613b64a8b3",
     "showTitle": false,
     "tableResultSettingsMap": {},
     "title": ""
    },
    "colab": {
     "base_uri": "https://localhost:8080/"
    },
    "id": "K5PtA51zZgOC",
    "outputId": "4fbabaac-32a6-490a-d555-2fe8f204a30f"
   },
   "outputs": [],
   "source": [
    "print(d)"
   ]
  },
  {
   "cell_type": "code",
   "execution_count": 0,
   "metadata": {
    "application/vnd.databricks.v1+cell": {
     "cellMetadata": {},
     "inputWidgets": {},
     "nuid": "85ce3e3c-a3dd-44ff-b036-a0ef11f59c08",
     "showTitle": false,
     "tableResultSettingsMap": {},
     "title": ""
    },
    "colab": {
     "base_uri": "https://localhost:8080/"
    },
    "id": "g5kjo0k5ZiFN",
    "outputId": "943c04df-710e-4dd8-f9d2-b42dc1eaa411"
   },
   "outputs": [],
   "source": [
    "print(d[\"c\"][1])"
   ]
  },
  {
   "cell_type": "code",
   "execution_count": 0,
   "metadata": {
    "application/vnd.databricks.v1+cell": {
     "cellMetadata": {},
     "inputWidgets": {},
     "nuid": "b8562822-f121-40d6-ad49-e954afb622ad",
     "showTitle": false,
     "tableResultSettingsMap": {},
     "title": ""
    },
    "id": "8U2bDN-eaq1-"
   },
   "outputs": [],
   "source": [
    "Range: sequence of Number"
   ]
  },
  {
   "cell_type": "code",
   "execution_count": 0,
   "metadata": {
    "application/vnd.databricks.v1+cell": {
     "cellMetadata": {},
     "inputWidgets": {},
     "nuid": "04dfe463-9060-4c68-aa1d-5bddef6387a1",
     "showTitle": false,
     "tableResultSettingsMap": {},
     "title": ""
    },
    "colab": {
     "base_uri": "https://localhost:8080/"
    },
    "id": "meg-sjx8emR1",
    "outputId": "f3faa148-5cf2-4425-8385-1f73ff09d8d7"
   },
   "outputs": [],
   "source": [
    "range(10)"
   ]
  },
  {
   "cell_type": "code",
   "execution_count": 0,
   "metadata": {
    "application/vnd.databricks.v1+cell": {
     "cellMetadata": {},
     "inputWidgets": {},
     "nuid": "ed47ec05-f3f9-4282-8673-cc768af817bb",
     "showTitle": false,
     "tableResultSettingsMap": {},
     "title": ""
    },
    "colab": {
     "base_uri": "https://localhost:8080/"
    },
    "id": "MpPzd_xOepzQ",
    "outputId": "9e59d26f-3106-45b6-c92f-7042a862df14"
   },
   "outputs": [],
   "source": [
    "for i in range(10):\n",
    "  print(i)"
   ]
  },
  {
   "cell_type": "code",
   "execution_count": 0,
   "metadata": {
    "application/vnd.databricks.v1+cell": {
     "cellMetadata": {},
     "inputWidgets": {},
     "nuid": "fe45dd07-5fa7-40ef-b159-23f9b5982015",
     "showTitle": false,
     "tableResultSettingsMap": {},
     "title": ""
    },
    "colab": {
     "base_uri": "https://localhost:8080/"
    },
    "id": "Sm-A5wAPfRCW",
    "outputId": "74104dc9-c567-46ea-d9f3-1f3c961859da"
   },
   "outputs": [],
   "source": [
    "for i in range(5,10):\n",
    "  print(i)"
   ]
  },
  {
   "cell_type": "code",
   "execution_count": 0,
   "metadata": {
    "application/vnd.databricks.v1+cell": {
     "cellMetadata": {},
     "inputWidgets": {},
     "nuid": "d1ea3de4-9f78-4d08-9087-ad8612de4ab1",
     "showTitle": false,
     "tableResultSettingsMap": {},
     "title": ""
    },
    "colab": {
     "base_uri": "https://localhost:8080/"
    },
    "id": "7h1S9f1NffuG",
    "outputId": "6cc36665-d2b6-4b3d-d1aa-54961ecfb1d4"
   },
   "outputs": [],
   "source": [
    "for i in range(3,33,3):\n",
    "  print(i)"
   ]
  }
 ],
 "metadata": {
  "application/vnd.databricks.v1+notebook": {
   "computePreferences": null,
   "dashboards": [],
   "environmentMetadata": null,
   "inputWidgetPreferences": null,
   "language": "python",
   "notebookMetadata": {
    "pythonIndentUnit": 4
   },
   "notebookName": "Day1_Python_Basic_NY",
   "widgets": {}
  },
  "colab": {
   "provenance": [],
   "toc_visible": true
  },
  "kernelspec": {
   "display_name": "Python 3",
   "name": "python3"
  },
  "language_info": {
   "name": "python"
  }
 },
 "nbformat": 4,
 "nbformat_minor": 0
}
